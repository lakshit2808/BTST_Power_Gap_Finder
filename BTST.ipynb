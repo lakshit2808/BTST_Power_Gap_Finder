{
 "cells": [
  {
   "cell_type": "markdown",
   "id": "a3e624c3",
   "metadata": {},
   "source": [
    "# Config"
   ]
  },
  {
   "cell_type": "code",
   "execution_count": 2,
   "id": "2e5f2ef3",
   "metadata": {},
   "outputs": [],
   "source": [
    "app_id = \"ZYNNQ1EECF-100\"\n",
    "secret_id = \"3W4F0X0G11\"\n",
    "redirect_url = \"https://www.google.com/\"\n",
    "\n",
    "market_opening_hour = 9\n",
    "market_opening_minute = 15\n",
    "market_closing_hour = 15\n",
    "market_closing_minute = 15\n",
    "start_date = \"2023-06-17\" \n",
    "end_date = \"2023-09-25\"\n",
    "\n",
    "fetch_data_from = \"csv\""
   ]
  },
  {
   "cell_type": "markdown",
   "id": "5063b6ff",
   "metadata": {},
   "source": [
    "# Fyers Client Session"
   ]
  },
  {
   "cell_type": "code",
   "execution_count": 3,
   "id": "46411175",
   "metadata": {},
   "outputs": [
    {
     "name": "stdout",
     "output_type": "stream",
     "text": [
      "https://api-t1.fyers.in/api/v3/generate-authcode?client_id=ZYNNQ1EECF-100&redirect_uri=https%3A%2F%2Fwww.google.com%2F&response_type=code&state=None\n"
     ]
    }
   ],
   "source": [
    "from fyers_apiv3 import fyersModel\n",
    "\n",
    "client_id = app_id\n",
    "secret_key = secret_id\n",
    "redirect_uri = redirect_url\n",
    "response_type = \"code\"  \n",
    "\n",
    "session = fyersModel.SessionModel(\n",
    "    client_id=app_id,\n",
    "    secret_key=secret_id,\n",
    "    redirect_uri=redirect_url,\n",
    "    response_type=\"code\",\n",
    "    grant_type = \"authorization_code\"\n",
    ")\n",
    "\n",
    "response = session.generate_authcode()\n",
    "\n",
    "print(response)"
   ]
  },
  {
   "cell_type": "markdown",
   "id": "55495d23",
   "metadata": {},
   "source": [
    "# Auth Code From Redirect Url"
   ]
  },
  {
   "cell_type": "code",
   "execution_count": 4,
   "id": "27f07642",
   "metadata": {},
   "outputs": [],
   "source": [
    "auth_code=\"eyJ0eXAiOiJKV1QiLCJhbGciOiJIUzI1NiJ9.eyJpc3MiOiJhcGkubG9naW4uZnllcnMuaW4iLCJpYXQiOjE2OTY2NzUxODgsImV4cCI6MTY5NjcwNTE4OCwibmJmIjoxNjk2Njc0NTg4LCJhdWQiOiJbXCJ4OjBcIiwgXCJ4OjFcIiwgXCJ4OjJcIiwgXCJkOjFcIiwgXCJkOjJcIiwgXCJ4OjFcIiwgXCJ4OjBcIl0iLCJzdWIiOiJhdXRoX2NvZGUiLCJkaXNwbGF5X25hbWUiOiJYTDA1NzM0Iiwib21zIjoiSzEiLCJoc21fa2V5IjoiZWQxNGYwNTE1N2JkOGQ1NTQ1Y2IyNmZiODAxZTI0NDBlZGYyNmZiYjkzZjQ4ZmVmOGFiZmUxYWQiLCJub25jZSI6IiIsImFwcF9pZCI6IlpZTk5RMUVFQ0YiLCJ1dWlkIjoiYzVkMWI3ZWQ1NTBhNDhhODk4M2NhZGNjYjk2MTljMDYiLCJpcEFkZHIiOiIwLjAuMC4wIiwic2NvcGUiOiIifQ.E2XIkBwmLijJlymWjPrh0flMJQUBHfLmQUvKX_X8IiA\""
   ]
  },
  {
   "cell_type": "markdown",
   "id": "20094089",
   "metadata": {},
   "source": [
    "# Session Status and Access Token"
   ]
  },
  {
   "cell_type": "code",
   "execution_count": 5,
   "id": "024c12c5",
   "metadata": {},
   "outputs": [
    {
     "name": "stdout",
     "output_type": "stream",
     "text": [
      "{'s': 'ok', 'code': 200, 'message': '', 'access_token': 'eyJ0eXAiOiJKV1QiLCJhbGciOiJIUzI1NiJ9.eyJpc3MiOiJhcGkuZnllcnMuaW4iLCJpYXQiOjE2OTY2NzUyMTMsImV4cCI6MTY5NjcyNTAxMywibmJmIjoxNjk2Njc1MjEzLCJhdWQiOlsieDowIiwieDoxIiwieDoyIiwiZDoxIiwiZDoyIiwieDoxIiwieDowIl0sInN1YiI6ImFjY2Vzc190b2tlbiIsImF0X2hhc2giOiJnQUFBQUFCbElUV04tYWtWYkpva2NnMHdxMVRzWWhBUnJ6YTZyMkZsQTNiQ2JxVWNqUzdKZElDcXlhQmJ5UTNUTndIUk5zelpYVXEtX25GekRUYWdrbVI4dUJ3bHAtVDdSc0psQjktc3djSDNuX04zdVFxRS11az0iLCJkaXNwbGF5X25hbWUiOiJMQUtTSElUIiwib21zIjoiSzEiLCJoc21fa2V5IjoiZWQxNGYwNTE1N2JkOGQ1NTQ1Y2IyNmZiODAxZTI0NDBlZGYyNmZiYjkzZjQ4ZmVmOGFiZmUxYWQiLCJmeV9pZCI6IlhMMDU3MzQiLCJhcHBUeXBlIjoxMDAsInBvYV9mbGFnIjoiTiJ9.Rq_WwSsoIqkO_PWIcUvc4Cage81g_Pobo_Zco0dRfeY', 'refresh_token': 'eyJ0eXAiOiJKV1QiLCJhbGciOiJIUzI1NiJ9.eyJpc3MiOiJhcGkuZnllcnMuaW4iLCJpYXQiOjE2OTY2NzUyMTMsImV4cCI6MTY5NzkzNDYxMywibmJmIjoxNjk2Njc1MjEzLCJhdWQiOlsieDowIiwieDoxIiwieDoyIiwiZDoxIiwiZDoyIiwieDoxIiwieDowIl0sInN1YiI6InJlZnJlc2hfdG9rZW4iLCJhdF9oYXNoIjoiZ0FBQUFBQmxJVFdOLWFrVmJKb2tjZzB3cTFUc1loQVJyemE2cjJGbEEzYkNicVVjalM3SmRJQ3F5YUJieVEzVE53SFJOc3paWFVxLV9uRnpEVGFna21SOHVCd2xwLVQ3UnNKbEI5LXN3Y0gzbl9OM3VRcUUtdWs9IiwiZGlzcGxheV9uYW1lIjoiTEFLU0hJVCIsIm9tcyI6IksxIiwiaHNtX2tleSI6ImVkMTRmMDUxNTdiZDhkNTU0NWNiMjZmYjgwMWUyNDQwZWRmMjZmYmI5M2Y0OGZlZjhhYmZlMWFkIiwiZnlfaWQiOiJYTDA1NzM0IiwiYXBwVHlwZSI6MTAwLCJwb2FfZmxhZyI6Ik4ifQ.PcW0ZKNTI-UVoVxp7oZWJc4_UOeohaNmkOAQjqujHgc'}\n"
     ]
    }
   ],
   "source": [
    "session.set_token(auth_code)\n",
    "\n",
    "response = session.generate_token()\n",
    "\n",
    "access_token = response['access_token']\n",
    "\n",
    "print(response)"
   ]
  },
  {
   "cell_type": "markdown",
   "id": "f6f2deb3",
   "metadata": {},
   "source": [
    "# Create Fyers Client"
   ]
  },
  {
   "cell_type": "code",
   "execution_count": 27,
   "id": "9c9dc92b",
   "metadata": {},
   "outputs": [],
   "source": [
    "from os import getcwd\n",
    "client = fyersModel.FyersModel(client_id=client_id, is_async=False, token=access_token, log_path=getcwd())"
   ]
  },
  {
   "cell_type": "markdown",
   "id": "57cadd99",
   "metadata": {},
   "source": [
    "# Historical Data"
   ]
  },
  {
   "cell_type": "markdown",
   "id": "04e36a47",
   "metadata": {},
   "source": [
    "## Fyers"
   ]
  },
  {
   "cell_type": "code",
   "execution_count": 28,
   "id": "35af4f87",
   "metadata": {},
   "outputs": [],
   "source": [
    "import pandas as pd\n",
    "import pytz\n",
    "\n",
    "if fetch_data_from == \"fyers\":\n",
    "    data = {\n",
    "        \"symbol\":\"NSE:NIFTYBANK-INDEX\",\n",
    "        \"resolution\":\"15\",\n",
    "        \"date_format\":\"1\",\n",
    "        \"range_from\": start_date,\n",
    "        \"range_to\": end_date,\n",
    "        \"cont_flag\":\"1\"\n",
    "    }\n",
    "\n",
    "    response = client.history(data=data)\n",
    "    # print(response)\n",
    "    df = pd.DataFrame(response['candles'], columns=['Time', \"Open\", \"High\", \"Low\", \"Close\", \"Volume\"])    \n",
    "\n",
    "    # Epoch Time to Human Readable\n",
    "    ist = pytz.timezone('Asia/Kolkata')\n",
    "    df['Time'] = pd.to_datetime(df['Time'], unit='s').dt.tz_localize(pytz.UTC).dt.tz_convert(ist)   \n",
    "\n",
    "    df = df.set_index(\"Time\") "
   ]
  },
  {
   "cell_type": "markdown",
   "id": "869fc417",
   "metadata": {},
   "source": [
    "## Csv Import"
   ]
  },
  {
   "cell_type": "code",
   "execution_count": 29,
   "id": "4ff03826",
   "metadata": {},
   "outputs": [],
   "source": [
    "if fetch_data_from == \"csv\":\n",
    "    df = pd.read_csv('NiftyData.csv')\n",
    "    df = df.drop(columns=[\"Unnamed: 0\", \"INDEX_NAME\", \"Index Name\"])\n",
    "    df.rename(columns={\"HistoricalDate\":\"Time\", \"OPEN\": \"Open\", \"LOW\": \"Low\", \"CLOSE\":\"Close\", \"HIGH\": \"High\" }, inplace=True)\n",
    "    df = df[::-1].reset_index(drop=True)"
   ]
  },
  {
   "cell_type": "code",
   "execution_count": 30,
   "id": "b18681df",
   "metadata": {},
   "outputs": [
    {
     "data": {
      "text/html": [
       "<div>\n",
       "<style scoped>\n",
       "    .dataframe tbody tr th:only-of-type {\n",
       "        vertical-align: middle;\n",
       "    }\n",
       "\n",
       "    .dataframe tbody tr th {\n",
       "        vertical-align: top;\n",
       "    }\n",
       "\n",
       "    .dataframe thead th {\n",
       "        text-align: right;\n",
       "    }\n",
       "</style>\n",
       "<table border=\"1\" class=\"dataframe\">\n",
       "  <thead>\n",
       "    <tr style=\"text-align: right;\">\n",
       "      <th></th>\n",
       "      <th>Time</th>\n",
       "      <th>Open</th>\n",
       "      <th>High</th>\n",
       "      <th>Low</th>\n",
       "      <th>Close</th>\n",
       "    </tr>\n",
       "  </thead>\n",
       "  <tbody>\n",
       "    <tr>\n",
       "      <th>0</th>\n",
       "      <td>03 Jan 2000</td>\n",
       "      <td>1482.15</td>\n",
       "      <td>1592.90</td>\n",
       "      <td>1482.15</td>\n",
       "      <td>1592.2</td>\n",
       "    </tr>\n",
       "    <tr>\n",
       "      <th>1</th>\n",
       "      <td>04 Jan 2000</td>\n",
       "      <td>1594.40</td>\n",
       "      <td>1641.95</td>\n",
       "      <td>1594.40</td>\n",
       "      <td>1638.7</td>\n",
       "    </tr>\n",
       "    <tr>\n",
       "      <th>2</th>\n",
       "      <td>05 Jan 2000</td>\n",
       "      <td>1634.55</td>\n",
       "      <td>1635.50</td>\n",
       "      <td>1555.05</td>\n",
       "      <td>1595.8</td>\n",
       "    </tr>\n",
       "    <tr>\n",
       "      <th>3</th>\n",
       "      <td>06 Jan 2000</td>\n",
       "      <td>1595.80</td>\n",
       "      <td>1639.00</td>\n",
       "      <td>1595.80</td>\n",
       "      <td>1617.6</td>\n",
       "    </tr>\n",
       "    <tr>\n",
       "      <th>4</th>\n",
       "      <td>07 Jan 2000</td>\n",
       "      <td>1616.60</td>\n",
       "      <td>1628.25</td>\n",
       "      <td>1597.20</td>\n",
       "      <td>1613.3</td>\n",
       "    </tr>\n",
       "  </tbody>\n",
       "</table>\n",
       "</div>"
      ],
      "text/plain": [
       "          Time     Open     High      Low   Close\n",
       "0  03 Jan 2000  1482.15  1592.90  1482.15  1592.2\n",
       "1  04 Jan 2000  1594.40  1641.95  1594.40  1638.7\n",
       "2  05 Jan 2000  1634.55  1635.50  1555.05  1595.8\n",
       "3  06 Jan 2000  1595.80  1639.00  1595.80  1617.6\n",
       "4  07 Jan 2000  1616.60  1628.25  1597.20  1613.3"
      ]
     },
     "execution_count": 30,
     "metadata": {},
     "output_type": "execute_result"
    }
   ],
   "source": [
    "df.head()"
   ]
  },
  {
   "cell_type": "markdown",
   "id": "d6e0ed10",
   "metadata": {},
   "source": [
    "# Time Difference in Months"
   ]
  },
  {
   "cell_type": "code",
   "execution_count": 31,
   "id": "1f51962e",
   "metadata": {},
   "outputs": [],
   "source": [
    "from datetime import datetime\n",
    "\n",
    "if fetch_data_from == \"fyers\":\n",
    "    start_date_ = datetime.strptime(start_date, \"%Y-%m-%d\")\n",
    "    end_date_ = datetime.strptime(end_date, \"%Y-%m-%d\")\n",
    "\n",
    "elif fetch_data_from == \"csv\":\n",
    "    start_date_ = pd.to_datetime(df['Time'][0])\n",
    "    end_date_ = pd.to_datetime(df[\"Time\"][-1:].values)\n",
    "    start_date = df['Time'].head(1).values[0]\n",
    "    end_date = df['Time'].tail(1).values[0]\n",
    "months_difference = ((end_date_.year - start_date_.year) * 12 + (end_date_.month - start_date_.month))[0]\n"
   ]
  },
  {
   "cell_type": "markdown",
   "id": "5eb066d5",
   "metadata": {},
   "source": [
    "# Change in Price"
   ]
  },
  {
   "cell_type": "code",
   "execution_count": 58,
   "id": "7b32c89b",
   "metadata": {},
   "outputs": [],
   "source": [
    "period = 2\n",
    "\n",
    "from numpy import nan\n",
    "from math import isnan\n",
    "\n",
    "df[f'{period}_day_price_change'] = df['Close'].diff(periods=period)\n",
    "prediction = []\n",
    "for i in range(0, len(df)):\n",
    "    is_positive_trend = df[f'{period}_day_price_change'].iloc[i] > 0\n",
    "    if is_positive_trend and not isnan(df[f'{period}_day_price_change'].iloc[i]):\n",
    "       prediction.append(\"Gap Up\")\n",
    "    elif not is_positive_trend and not isnan(df[f'{period}_day_price_change'].iloc[i]):\n",
    "        prediction.append('Gap Down')\n",
    "    elif isnan(df[f'{period}_day_price_change'].iloc[i]):\n",
    "        prediction.append(nan)\n",
    "df['Change_Price_Prediction'] = prediction"
   ]
  },
  {
   "cell_type": "markdown",
   "id": "44a9569d",
   "metadata": {},
   "source": [
    "## Actual Gap"
   ]
  },
  {
   "cell_type": "code",
   "execution_count": 67,
   "id": "849ead01",
   "metadata": {},
   "outputs": [
    {
     "name": "stderr",
     "output_type": "stream",
     "text": [
      "/var/folders/7k/mwk0ry_90p1gvfnc7vymq21w0000gn/T/ipykernel_7398/1635259681.py:6: SettingWithCopyWarning: \n",
      "A value is trying to be set on a copy of a slice from a DataFrame\n",
      "\n",
      "See the caveats in the documentation: https://pandas.pydata.org/pandas-docs/stable/user_guide/indexing.html#returning-a-view-versus-a-copy\n",
      "  df['Actual_Gap'].iloc[period-1:] =  gap_list\n"
     ]
    }
   ],
   "source": [
    "gap_list = []\n",
    "for i in range(0, len(df) - 1):\n",
    "    gap = df.iloc[i+1].Open - df.iloc[i].Close\n",
    "    gap_list.append(round(gap,2))    \n",
    "df.loc[0, 'Actual_Gap'] = nan\n",
    "df['Actual_Gap'].iloc[period-1:] =  gap_list    "
   ]
  },
  {
   "cell_type": "markdown",
   "id": "cab8f5b1",
   "metadata": {},
   "source": [
    "## Historical Trend with SMA"
   ]
  },
  {
   "cell_type": "code",
   "execution_count": 63,
   "id": "02c91ea7",
   "metadata": {},
   "outputs": [
    {
     "name": "stderr",
     "output_type": "stream",
     "text": [
      "/var/folders/7k/mwk0ry_90p1gvfnc7vymq21w0000gn/T/ipykernel_7398/3569904789.py:14: SettingWithCopyWarning: \n",
      "A value is trying to be set on a copy of a slice from a DataFrame\n",
      "\n",
      "See the caveats in the documentation: https://pandas.pydata.org/pandas-docs/stable/user_guide/indexing.html#returning-a-view-versus-a-copy\n",
      "  df['Historical_Trend'].iloc[long_window:] = sma_prediction\n"
     ]
    }
   ],
   "source": [
    "short_window = 5\n",
    "long_window = 20\n",
    "\n",
    "df['SMA_Short'] = df['Close'].rolling(window=short_window).mean()\n",
    "df['SMA_Long'] = df['Close'].rolling(window=long_window).mean()\n",
    "sma_prediction = []\n",
    "for i in range(0, len(df)):\n",
    "    if df['SMA_Short'].iloc[i] > df['SMA_Long'].iloc[i]:\n",
    "        sma_prediction.append(\"Up Trend\")\n",
    "    elif df['SMA_Short'].iloc[i] < df['SMA_Long'].iloc[i]:\n",
    "        sma_prediction.append(\"Down Trend\")    \n",
    "\n",
    "df['Historical_Trend'] = nan\n",
    "df['Historical_Trend'].iloc[long_window:] = sma_prediction"
   ]
  },
  {
   "cell_type": "markdown",
   "id": "92a1a754",
   "metadata": {},
   "source": [
    "# Day Opening and Closing Data Collection"
   ]
  },
  {
   "cell_type": "code",
   "execution_count": 12,
   "id": "f0ab112e",
   "metadata": {},
   "outputs": [],
   "source": [
    "if fetch_data_from == \"fyers\":\n",
    "    trade_info = {\n",
    "        'day_closing': [],\n",
    "        'day_opening': []\n",
    "    }\n",
    "    for i in range(0,len(df)):\n",
    "        if df.index[i].hour == market_opening_hour and df.index[i].minute == market_opening_minute:\n",
    "                trade_info['day_opening'].append(df.index[i])\n",
    "        elif df.index[i].hour == market_closing_hour and df.index[i].minute == market_closing_minute:\n",
    "                trade_info['day_closing'].append(df.index[i])"
   ]
  },
  {
   "cell_type": "code",
   "execution_count": 69,
   "id": "0aa159b5",
   "metadata": {},
   "outputs": [
    {
     "data": {
      "text/html": [
       "<div>\n",
       "<style scoped>\n",
       "    .dataframe tbody tr th:only-of-type {\n",
       "        vertical-align: middle;\n",
       "    }\n",
       "\n",
       "    .dataframe tbody tr th {\n",
       "        vertical-align: top;\n",
       "    }\n",
       "\n",
       "    .dataframe thead th {\n",
       "        text-align: right;\n",
       "    }\n",
       "</style>\n",
       "<table border=\"1\" class=\"dataframe\">\n",
       "  <thead>\n",
       "    <tr style=\"text-align: right;\">\n",
       "      <th></th>\n",
       "      <th>Time</th>\n",
       "      <th>Open</th>\n",
       "      <th>High</th>\n",
       "      <th>Low</th>\n",
       "      <th>Close</th>\n",
       "      <th>2_day_price_change</th>\n",
       "      <th>Change_Price_Prediction</th>\n",
       "      <th>SMA_Short</th>\n",
       "      <th>SMA_Long</th>\n",
       "      <th>Historical_Trend</th>\n",
       "      <th>Actual_Gap</th>\n",
       "    </tr>\n",
       "  </thead>\n",
       "  <tbody>\n",
       "    <tr>\n",
       "      <th>0</th>\n",
       "      <td>03 Jan 2000</td>\n",
       "      <td>1482.15</td>\n",
       "      <td>1592.90</td>\n",
       "      <td>1482.15</td>\n",
       "      <td>1592.20</td>\n",
       "      <td>NaN</td>\n",
       "      <td>NaN</td>\n",
       "      <td>NaN</td>\n",
       "      <td>NaN</td>\n",
       "      <td>NaN</td>\n",
       "      <td>NaN</td>\n",
       "    </tr>\n",
       "    <tr>\n",
       "      <th>1</th>\n",
       "      <td>04 Jan 2000</td>\n",
       "      <td>1594.40</td>\n",
       "      <td>1641.95</td>\n",
       "      <td>1594.40</td>\n",
       "      <td>1638.70</td>\n",
       "      <td>NaN</td>\n",
       "      <td>NaN</td>\n",
       "      <td>NaN</td>\n",
       "      <td>NaN</td>\n",
       "      <td>NaN</td>\n",
       "      <td>2.20</td>\n",
       "    </tr>\n",
       "    <tr>\n",
       "      <th>2</th>\n",
       "      <td>05 Jan 2000</td>\n",
       "      <td>1634.55</td>\n",
       "      <td>1635.50</td>\n",
       "      <td>1555.05</td>\n",
       "      <td>1595.80</td>\n",
       "      <td>3.60</td>\n",
       "      <td>Gap Up</td>\n",
       "      <td>NaN</td>\n",
       "      <td>NaN</td>\n",
       "      <td>NaN</td>\n",
       "      <td>-4.15</td>\n",
       "    </tr>\n",
       "    <tr>\n",
       "      <th>3</th>\n",
       "      <td>06 Jan 2000</td>\n",
       "      <td>1595.80</td>\n",
       "      <td>1639.00</td>\n",
       "      <td>1595.80</td>\n",
       "      <td>1617.60</td>\n",
       "      <td>-21.10</td>\n",
       "      <td>Gap Down</td>\n",
       "      <td>NaN</td>\n",
       "      <td>NaN</td>\n",
       "      <td>NaN</td>\n",
       "      <td>0.00</td>\n",
       "    </tr>\n",
       "    <tr>\n",
       "      <th>4</th>\n",
       "      <td>07 Jan 2000</td>\n",
       "      <td>1616.60</td>\n",
       "      <td>1628.25</td>\n",
       "      <td>1597.20</td>\n",
       "      <td>1613.30</td>\n",
       "      <td>17.50</td>\n",
       "      <td>Gap Up</td>\n",
       "      <td>1611.52</td>\n",
       "      <td>NaN</td>\n",
       "      <td>NaN</td>\n",
       "      <td>-1.00</td>\n",
       "    </tr>\n",
       "    <tr>\n",
       "      <th>...</th>\n",
       "      <td>...</td>\n",
       "      <td>...</td>\n",
       "      <td>...</td>\n",
       "      <td>...</td>\n",
       "      <td>...</td>\n",
       "      <td>...</td>\n",
       "      <td>...</td>\n",
       "      <td>...</td>\n",
       "      <td>...</td>\n",
       "      <td>...</td>\n",
       "      <td>...</td>\n",
       "    </tr>\n",
       "    <tr>\n",
       "      <th>5810</th>\n",
       "      <td>15 May 2023</td>\n",
       "      <td>18339.30</td>\n",
       "      <td>18458.90</td>\n",
       "      <td>18287.90</td>\n",
       "      <td>18398.85</td>\n",
       "      <td>101.85</td>\n",
       "      <td>Gap Up</td>\n",
       "      <td>18318.34</td>\n",
       "      <td>17997.9475</td>\n",
       "      <td>Up Trend</td>\n",
       "      <td>24.50</td>\n",
       "    </tr>\n",
       "    <tr>\n",
       "      <th>5811</th>\n",
       "      <td>16 May 2023</td>\n",
       "      <td>18432.35</td>\n",
       "      <td>18432.35</td>\n",
       "      <td>18264.35</td>\n",
       "      <td>18286.50</td>\n",
       "      <td>-28.30</td>\n",
       "      <td>Gap Down</td>\n",
       "      <td>18322.45</td>\n",
       "      <td>18026.9300</td>\n",
       "      <td>Up Trend</td>\n",
       "      <td>33.50</td>\n",
       "    </tr>\n",
       "    <tr>\n",
       "      <th>5812</th>\n",
       "      <td>17 May 2023</td>\n",
       "      <td>18300.45</td>\n",
       "      <td>18309.00</td>\n",
       "      <td>18115.35</td>\n",
       "      <td>18181.75</td>\n",
       "      <td>-217.10</td>\n",
       "      <td>Gap Down</td>\n",
       "      <td>18295.78</td>\n",
       "      <td>18053.0100</td>\n",
       "      <td>Up Trend</td>\n",
       "      <td>13.95</td>\n",
       "    </tr>\n",
       "    <tr>\n",
       "      <th>5813</th>\n",
       "      <td>18 May 2023</td>\n",
       "      <td>18287.50</td>\n",
       "      <td>18297.20</td>\n",
       "      <td>18104.85</td>\n",
       "      <td>18129.95</td>\n",
       "      <td>-156.55</td>\n",
       "      <td>Gap Down</td>\n",
       "      <td>18262.37</td>\n",
       "      <td>18078.5700</td>\n",
       "      <td>Up Trend</td>\n",
       "      <td>105.75</td>\n",
       "    </tr>\n",
       "    <tr>\n",
       "      <th>5814</th>\n",
       "      <td>19 May 2023</td>\n",
       "      <td>18186.15</td>\n",
       "      <td>18218.10</td>\n",
       "      <td>18060.40</td>\n",
       "      <td>18203.40</td>\n",
       "      <td>21.65</td>\n",
       "      <td>Gap Up</td>\n",
       "      <td>18240.09</td>\n",
       "      <td>18107.5175</td>\n",
       "      <td>Up Trend</td>\n",
       "      <td>56.20</td>\n",
       "    </tr>\n",
       "  </tbody>\n",
       "</table>\n",
       "<p>5815 rows × 11 columns</p>\n",
       "</div>"
      ],
      "text/plain": [
       "             Time      Open      High       Low     Close  2_day_price_change  \\\n",
       "0     03 Jan 2000   1482.15   1592.90   1482.15   1592.20                 NaN   \n",
       "1     04 Jan 2000   1594.40   1641.95   1594.40   1638.70                 NaN   \n",
       "2     05 Jan 2000   1634.55   1635.50   1555.05   1595.80                3.60   \n",
       "3     06 Jan 2000   1595.80   1639.00   1595.80   1617.60              -21.10   \n",
       "4     07 Jan 2000   1616.60   1628.25   1597.20   1613.30               17.50   \n",
       "...           ...       ...       ...       ...       ...                 ...   \n",
       "5810  15 May 2023  18339.30  18458.90  18287.90  18398.85              101.85   \n",
       "5811  16 May 2023  18432.35  18432.35  18264.35  18286.50              -28.30   \n",
       "5812  17 May 2023  18300.45  18309.00  18115.35  18181.75             -217.10   \n",
       "5813  18 May 2023  18287.50  18297.20  18104.85  18129.95             -156.55   \n",
       "5814  19 May 2023  18186.15  18218.10  18060.40  18203.40               21.65   \n",
       "\n",
       "     Change_Price_Prediction  SMA_Short    SMA_Long Historical_Trend  \\\n",
       "0                        NaN        NaN         NaN              NaN   \n",
       "1                        NaN        NaN         NaN              NaN   \n",
       "2                     Gap Up        NaN         NaN              NaN   \n",
       "3                   Gap Down        NaN         NaN              NaN   \n",
       "4                     Gap Up    1611.52         NaN              NaN   \n",
       "...                      ...        ...         ...              ...   \n",
       "5810                  Gap Up   18318.34  17997.9475         Up Trend   \n",
       "5811                Gap Down   18322.45  18026.9300         Up Trend   \n",
       "5812                Gap Down   18295.78  18053.0100         Up Trend   \n",
       "5813                Gap Down   18262.37  18078.5700         Up Trend   \n",
       "5814                  Gap Up   18240.09  18107.5175         Up Trend   \n",
       "\n",
       "      Actual_Gap  \n",
       "0            NaN  \n",
       "1           2.20  \n",
       "2          -4.15  \n",
       "3           0.00  \n",
       "4          -1.00  \n",
       "...          ...  \n",
       "5810       24.50  \n",
       "5811       33.50  \n",
       "5812       13.95  \n",
       "5813      105.75  \n",
       "5814       56.20  \n",
       "\n",
       "[5815 rows x 11 columns]"
      ]
     },
     "execution_count": 69,
     "metadata": {},
     "output_type": "execute_result"
    }
   ],
   "source": [
    "df"
   ]
  },
  {
   "cell_type": "markdown",
   "id": "fb655bfc",
   "metadata": {},
   "source": [
    "# BTST Logic"
   ]
  },
  {
   "cell_type": "code",
   "execution_count": 13,
   "id": "f79ee3ae",
   "metadata": {},
   "outputs": [],
   "source": [
    "pnl_list = []\n",
    "\n",
    "if fetch_data_from == \"fyers\":\n",
    "    for i in range(0, len(trade_info['day_closing']) - 1):\n",
    "        pnl = df.loc[trade_info['day_opening'][i+1]].Open - df.loc[trade_info['day_closing'][i]].Open\n",
    "        pnl_list.append(round(pnl,2))\n",
    "\n",
    "if fetch_data_from == \"csv\":\n",
    "    for i in range(0, len(df) - 1):\n",
    "        pnl = df.iloc[i+1].Open - df.iloc[i].Close\n",
    "        pnl_list.append(round(pnl,2))    "
   ]
  },
  {
   "cell_type": "markdown",
   "id": "9cf04de0",
   "metadata": {},
   "source": [
    "# BTST Results"
   ]
  },
  {
   "cell_type": "code",
   "execution_count": 14,
   "id": "ac303003",
   "metadata": {},
   "outputs": [],
   "source": [
    "total_profits = sum(1 for profit in pnl_list if profit > 0)\n",
    "total_losses = sum(1 for loss in pnl_list if loss < 0)"
   ]
  },
  {
   "cell_type": "code",
   "execution_count": 15,
   "id": "c485dead",
   "metadata": {},
   "outputs": [
    {
     "name": "stdout",
     "output_type": "stream",
     "text": [
      "3726\n",
      "1947\n"
     ]
    }
   ],
   "source": [
    "print(total_profits)\n",
    "print(total_losses)"
   ]
  },
  {
   "cell_type": "markdown",
   "id": "fa1387ea",
   "metadata": {},
   "source": [
    "## Paper Trading Results"
   ]
  },
  {
   "cell_type": "code",
   "execution_count": 16,
   "id": "6715ced8",
   "metadata": {},
   "outputs": [],
   "source": [
    "def ConsecutivePL(pnl_data):\n",
    "    l_streak, w_streak = 0, 0\n",
    "    max_loosing_streak, max_winning_streak = 0,0\n",
    "    for i in pnl_data:\n",
    "        if i < 0:\n",
    "            l_streak+=1\n",
    "            if l_streak > max_loosing_streak:\n",
    "                max_loosing_streak = l_streak        \n",
    "        elif i > 0:\n",
    "            l_streak = 0\n",
    "        if i > 0:\n",
    "            w_streak+=1\n",
    "            if w_streak > max_winning_streak:\n",
    "                max_winning_streak = w_streak        \n",
    "        elif i < 0:\n",
    "            w_streak = 0\n",
    "    return {\"Winning_Streak\": max_winning_streak, \"Loosing_Streak\": max_loosing_streak }\n",
    "\n",
    "def MaxConsecutivePL(pnl_data, lot_size, no_of_lots):\n",
    "    l_streak, p_streak = 0, 0\n",
    "    max_loss_streak, max_profit_streak = 0,0\n",
    "    for i in pnl_data:\n",
    "        if i < 0:\n",
    "            l_streak+=i\n",
    "            if l_streak < max_loss_streak:\n",
    "                max_loss_streak = l_streak        \n",
    "        elif i > 0:\n",
    "            l_streak = 0\n",
    "        if i > 0:\n",
    "            p_streak+=i\n",
    "            if p_streak > max_profit_streak:\n",
    "                max_profit_streak = p_streak        \n",
    "        elif i < 0:\n",
    "            p_streak = 0\n",
    "    return {\"Max_Profit_Streak\": round(max_profit_streak*lot_size*no_of_lots,2), \n",
    "            \"Max_Loss_Streak\": round(max_loss_streak*lot_size*no_of_lots,2) }\n",
    "\n",
    "def WLRate(pnl_data):\n",
    "    win_rate = 0\n",
    "    loss_rate = 0\n",
    "    for pnl in pnl_data:\n",
    "        if pnl > 0:\n",
    "            win_rate+=1\n",
    "        else:\n",
    "            loss_rate+=1\n",
    "    total = total_profits + total_losses\n",
    "    win_rate = round(total_profits*100/total,2)\n",
    "    loss_rate = round(total_losses*100/total,2)\n",
    "    return {\"Win_Rate\": win_rate, \"Loss_Rate\": loss_rate}\n",
    "\n",
    "\n",
    "# Max DrawDown\n",
    "def MaxDD(capital_movement):\n",
    "    max_drawdown = 0\n",
    "    current_drawdown = 0\n",
    "    peak_value = capital_movement[0]\n",
    "    for capital in capital_movement:\n",
    "        if capital > peak_value:\n",
    "            peak_value = capital\n",
    "\n",
    "        current_drawdown = peak_value - capital\n",
    "        if current_drawdown > max_drawdown:\n",
    "            max_drawdown = current_drawdown\n",
    "    return max_drawdown\n",
    "\n",
    "def FinalCapital(inital_capital, no_of_lots, lot_size):\n",
    "    final_capital = inital_capital\n",
    "    capital_movement = [final_capital]\n",
    "    for pnl in pnl_list:\n",
    "        final_capital += (pnl*no_of_lots*lot_size)\n",
    "        capital_movement.append(final_capital) \n",
    "    return final_capital, capital_movement\n",
    "\n",
    "def PNLs(no_of_lots, lot_size):\n",
    "    pnls = []\n",
    "    for pnl in pnl_list:\n",
    "        pnls.append(pnl*no_of_lots*lot_size)\n",
    "    return pnls\n",
    "\n",
    "def AveragePNL(pnl_data,no_of_lots,lot_size):\n",
    "    total_sum = 0\n",
    "    for pnl in pnl_data:\n",
    "        total_sum+=(pnl*no_of_lots*lot_size)\n",
    "    average = total_sum/len(pnl_data)\n",
    "    return round(average,2)\n",
    "\n",
    "def AveragePNLPerTrade(pnl_data, no_of_lots,lot_size):\n",
    "    total_sum_l,total_sum_p = 0,0\n",
    "    no_of_losses, no_of_profits = 0,0\n",
    "    for pnl in pnl_data:\n",
    "        if pnl < 0:\n",
    "            total_sum_l+=(pnl*no_of_lots*lot_size)\n",
    "            no_of_losses+=1\n",
    "        elif pnl > 0:\n",
    "            total_sum_p+=(pnl*no_of_lots*lot_size)\n",
    "            no_of_profits+=1\n",
    "    average_loss = round(total_sum_l/no_of_losses,2)\n",
    "    average_profit = round(total_sum_p/no_of_profits,2)\n",
    "    return {\"Average_Profits_Per_Trade\": average_profit, \"Average_Loss_Per_Trade\": average_loss}"
   ]
  },
  {
   "cell_type": "code",
   "execution_count": 17,
   "id": "471f6b8d",
   "metadata": {},
   "outputs": [],
   "source": [
    "inital_capital = 200000\n",
    "no_of_lots = 2\n",
    "lot_size = 50\n",
    "capital_movement = FinalCapital(inital_capital, no_of_lots, lot_size)[1]\n",
    "\n",
    "final_capital = FinalCapital(inital_capital, no_of_lots, lot_size)[0]\n",
    "roi = final_capital - inital_capital\n",
    "roi_per = roi*100/inital_capital\n",
    "max_profit = round(max(PNLs(no_of_lots, lot_size)),2)\n",
    "max_loss = min(PNLs(no_of_lots, lot_size))\n",
    "max_drawdown = MaxDD(capital_movement)\n",
    "mdd_per = round(max_drawdown*100/inital_capital,2)\n",
    "max_winning_streak = ConsecutivePL(pnl_list)['Winning_Streak']\n",
    "max_loosing_streak = ConsecutivePL(pnl_list)['Loosing_Streak']\n",
    "pnl_per_trade = AveragePNL(pnl_list,no_of_lots,lot_size)\n",
    "max_profit_steak = MaxConsecutivePL(pnl_list, lot_size, no_of_lots)['Max_Profit_Streak']\n",
    "max_loss_steak = MaxConsecutivePL(pnl_list,lot_size, no_of_lots)['Max_Loss_Streak']\n",
    "win_rate = WLRate(pnl_list)['Win_Rate']\n",
    "loss_rate = WLRate(pnl_list)['Loss_Rate']\n",
    "average_profit_on_win_trade = AveragePNLPerTrade(pnl_list, no_of_lots,lot_size)[\"Average_Profits_Per_Trade\"]\n",
    "average_loss_on_loss_trade = AveragePNLPerTrade(pnl_list, no_of_lots,lot_size)[\"Average_Loss_Per_Trade\"]\n",
    "return_over_mdd = round(roi_per/mdd_per,2)\n",
    "risk_to_reward = round(abs(average_profit_on_win_trade/average_loss_on_loss_trade),2)\n",
    "expectancy_ratio = round((risk_to_reward*(win_rate/100))-(loss_rate/100),2)"
   ]
  },
  {
   "cell_type": "code",
   "execution_count": 18,
   "id": "ed7960d5",
   "metadata": {},
   "outputs": [
    {
     "data": {
      "text/markdown": [
       "# Performance Summary\n",
       " Start Date: 03 Jan 2000</br> End Date: 19 May 2023</br>Time Period: 280 Months</br> Initial Capital: 200000</br>Final Capital: 4053330.0</br>    Return on Investment: 3853330.0</br>    ROI Percentage: 1926.665%</br> Max Profit: 41175.0</br> Max Loss: -79975.0</br>   Max Draw Down: 293415.0</br> Max Draw Down Percentage: 146.71 </br> Max Winning Streak: 23   </br> Max Loosing Streak: 7</br> Average PNL Per Trade: 662.77</br>  Max Profit Streak: 86485.0 </br> Max Loss Streak: -195930.0</br> Win Rate: 65.68% </br> Loss Rate: 34.32%</br>  Average Profit on Win Trade: 2302.36</br> Average Loss on Loss Trade: -2426.95</br>  Return Over Max Draw Down: 13.13</br> Risk to Reward Ratio: 0.95</br> Expectancy Ratio: 0.28"
      ],
      "text/plain": [
       "<IPython.core.display.Markdown object>"
      ]
     },
     "execution_count": 18,
     "metadata": {},
     "output_type": "execute_result"
    }
   ],
   "source": [
    "from IPython.display import Markdown as md\n",
    "\n",
    "md(\"# Performance Summary\\n Start Date: {}</br> End Date: {}</br>Time Period: {} Months</br> Initial Capital: {}</br>\\\n",
    "Final Capital: {}</br> \\\n",
    "   Return on Investment: {}</br> \\\n",
    "   ROI Percentage: {}%</br> Max Profit: {}</br> Max Loss: {}</br> \\\n",
    "  Max Draw Down: {}</br> Max Draw Down Percentage: {} </br> Max Winning Streak: {} \\\n",
    "  </br> Max Loosing Streak: {}</br> Average PNL Per Trade: {}</br>\\\n",
    "  Max Profit Streak: {} </br> Max Loss Streak: {}</br> Win Rate: {}% </br> Loss Rate: {}%</br>\\\n",
    "  Average Profit on Win Trade: {}</br> Average Loss on Loss Trade: {}</br>\\\n",
    "  Return Over Max Draw Down: {}</br> Risk to Reward Ratio: {}</br> Expectancy Ratio: {}\".format(\n",
    "                                    start_date, end_date, months_difference, inital_capital,\n",
    "                                    final_capital, roi, roi_per,\n",
    "                                    max_profit,max_loss, max_drawdown,\n",
    "                                    mdd_per,max_winning_streak, max_loosing_streak, pnl_per_trade,\n",
    "                                    max_profit_steak, max_loss_steak, win_rate, loss_rate,\n",
    "                                    average_profit_on_win_trade, average_loss_on_loss_trade,\n",
    "                                    return_over_mdd, risk_to_reward, expectancy_ratio))"
   ]
  },
  {
   "cell_type": "markdown",
   "id": "73d366b4",
   "metadata": {},
   "source": [
    "# Historical Trend "
   ]
  },
  {
   "cell_type": "markdown",
   "id": "feb39293",
   "metadata": {},
   "source": [
    "## Predicting Gaps"
   ]
  },
  {
   "cell_type": "markdown",
   "id": "3b1ab804",
   "metadata": {},
   "source": [
    "#### Actual Gap"
   ]
  },
  {
   "cell_type": "code",
   "execution_count": 20,
   "id": "68543fdf",
   "metadata": {},
   "outputs": [
    {
     "name": "stderr",
     "output_type": "stream",
     "text": [
      "/var/folders/7k/mwk0ry_90p1gvfnc7vymq21w0000gn/T/ipykernel_7398/3094274696.py:2: SettingWithCopyWarning: \n",
      "A value is trying to be set on a copy of a slice from a DataFrame\n",
      "\n",
      "See the caveats in the documentation: https://pandas.pydata.org/pandas-docs/stable/user_guide/indexing.html#returning-a-view-versus-a-copy\n",
      "  df['Actual_Gap'].iloc[period-1:] =  pnl_list\n"
     ]
    }
   ],
   "source": [
    "df.loc[0, 'Actual_Gap'] = nan\n",
    "df['Actual_Gap'].iloc[period-1:] =  pnl_list"
   ]
  },
  {
   "cell_type": "markdown",
   "id": "7ad46634",
   "metadata": {},
   "source": [
    "### Evluation"
   ]
  },
  {
   "cell_type": "code",
   "execution_count": 22,
   "id": "13f0937b",
   "metadata": {},
   "outputs": [],
   "source": [
    "wins = 0\n",
    "losses = 0\n",
    "for i in range(0, len(df)):\n",
    "    if (df['Actual_Gap'].iloc[i] > 0 and df[\"Change_Price_Prediction\"].iloc[i] == \"Gap Up\" and df['Historical_Trend'].iloc[i] == \"Up Trend\") or (df['Actual_Gap'].iloc[i] < 0 and df[\"Change_Price_Prediction\"].iloc[i] == \"Gap Down\" and df['Historical_Trend'].iloc[i] == \"Down Trend\"):\n",
    "        wins+=1\n",
    "    elif (df['Actual_Gap'].iloc[i] < 0 and df[\"Change_Price_Prediction\"].iloc[i] == \"Gap Up\" and df['Historical_Trend'].iloc[i] == \"Up Trend\") or (df['Actual_Gap'].iloc[i] > 0 and df[\"Change_Price_Prediction\"].iloc[i] == \"Gap Down\" and df['Historical_Trend'].iloc[i] == \"Down Trend\"):\n",
    "        losses+=1    \n",
    "    \n"
   ]
  },
  {
   "cell_type": "code",
   "execution_count": 23,
   "id": "dd9d4925",
   "metadata": {},
   "outputs": [],
   "source": [
    "win_rate__ = round(wins*100/(wins+losses),2)"
   ]
  },
  {
   "cell_type": "code",
   "execution_count": 24,
   "id": "558fb752",
   "metadata": {},
   "outputs": [
    {
     "name": "stdout",
     "output_type": "stream",
     "text": [
      "66.44 %\n"
     ]
    }
   ],
   "source": [
    "print(win_rate__,\"%\")"
   ]
  },
  {
   "cell_type": "code",
   "execution_count": null,
   "id": "f44e761b",
   "metadata": {},
   "outputs": [],
   "source": []
  }
 ],
 "metadata": {
  "kernelspec": {
   "display_name": "Python 3 (ipykernel)",
   "language": "python",
   "name": "python3"
  },
  "language_info": {
   "codemirror_mode": {
    "name": "ipython",
    "version": 3
   },
   "file_extension": ".py",
   "mimetype": "text/x-python",
   "name": "python",
   "nbconvert_exporter": "python",
   "pygments_lexer": "ipython3",
   "version": "3.9.6"
  }
 },
 "nbformat": 4,
 "nbformat_minor": 5
}
