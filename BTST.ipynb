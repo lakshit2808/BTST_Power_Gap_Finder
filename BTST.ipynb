{
 "cells": [
  {
   "cell_type": "markdown",
   "id": "a3e624c3",
   "metadata": {},
   "source": [
    "# Config"
   ]
  },
  {
   "cell_type": "code",
   "execution_count": 79,
   "id": "2e5f2ef3",
   "metadata": {},
   "outputs": [],
   "source": [
    "app_id = \"ZYNNQ1EECF-100\"\n",
    "secret_id = \"3W4F0X0G11\"\n",
    "redirect_url = \"https://www.google.com/\"\n",
    "\n",
    "market_opening_hour = 9\n",
    "market_opening_minute = 15\n",
    "market_closing_hour = 15\n",
    "market_closing_minute = 15\n",
    "start_date = \"2023-06-17\" \n",
    "end_date = \"2023-09-25\"\n",
    "\n",
    "fetch_data_from = \"csv\""
   ]
  },
  {
   "cell_type": "markdown",
   "id": "5063b6ff",
   "metadata": {},
   "source": [
    "# Fyers Client Session"
   ]
  },
  {
   "cell_type": "code",
   "execution_count": 80,
   "id": "46411175",
   "metadata": {},
   "outputs": [
    {
     "name": "stdout",
     "output_type": "stream",
     "text": [
      "https://api-t1.fyers.in/api/v3/generate-authcode?client_id=ZYNNQ1EECF-100&redirect_uri=https%3A%2F%2Fwww.google.com%2F&response_type=code&state=None\n"
     ]
    }
   ],
   "source": [
    "from fyers_apiv3 import fyersModel\n",
    "\n",
    "client_id = app_id\n",
    "secret_key = secret_id\n",
    "redirect_uri = redirect_url\n",
    "response_type = \"code\"  \n",
    "\n",
    "session = fyersModel.SessionModel(\n",
    "    client_id=app_id,\n",
    "    secret_key=secret_id,\n",
    "    redirect_uri=redirect_url,\n",
    "    response_type=\"code\",\n",
    "    grant_type = \"authorization_code\"\n",
    ")\n",
    "\n",
    "response = session.generate_authcode()\n",
    "\n",
    "print(response)"
   ]
  },
  {
   "cell_type": "markdown",
   "id": "55495d23",
   "metadata": {},
   "source": [
    "# Auth Code From Redirect Url"
   ]
  },
  {
   "cell_type": "code",
   "execution_count": 81,
   "id": "27f07642",
   "metadata": {},
   "outputs": [],
   "source": [
    "auth_code=\"eyJ0eXAiOiJKV1QiLCJhbGciOiJIUzI1NiJ9.eyJpc3MiOiJhcGkubG9naW4uZnllcnMuaW4iLCJpYXQiOjE2OTY2NjU3NDcsImV4cCI6MTY5NjY5NTc0NywibmJmIjoxNjk2NjY1MTQ3LCJhdWQiOiJbXCJ4OjBcIiwgXCJ4OjFcIiwgXCJ4OjJcIiwgXCJkOjFcIiwgXCJkOjJcIiwgXCJ4OjFcIiwgXCJ4OjBcIl0iLCJzdWIiOiJhdXRoX2NvZGUiLCJkaXNwbGF5X25hbWUiOiJYTDA1NzM0Iiwib21zIjoiSzEiLCJoc21fa2V5IjoiZWQxNGYwNTE1N2JkOGQ1NTQ1Y2IyNmZiODAxZTI0NDBlZGYyNmZiYjkzZjQ4ZmVmOGFiZmUxYWQiLCJub25jZSI6IiIsImFwcF9pZCI6IlpZTk5RMUVFQ0YiLCJ1dWlkIjoiYmJhYjMwNGY4MGZlNDM5YjhkMTBhNDIwYTMzNmVhN2YiLCJpcEFkZHIiOiIwLjAuMC4wIiwic2NvcGUiOiIifQ.uYOCV_qfH_G5qSTJzjd4RWjjBAfgbQfV4wAE9xDCi78\""
   ]
  },
  {
   "cell_type": "markdown",
   "id": "20094089",
   "metadata": {},
   "source": [
    "# Session Status and Access Token"
   ]
  },
  {
   "cell_type": "code",
   "execution_count": 82,
   "id": "024c12c5",
   "metadata": {},
   "outputs": [
    {
     "name": "stdout",
     "output_type": "stream",
     "text": [
      "{'s': 'ok', 'code': 200, 'message': '', 'access_token': 'eyJ0eXAiOiJKV1QiLCJhbGciOiJIUzI1NiJ9.eyJpc3MiOiJhcGkuZnllcnMuaW4iLCJpYXQiOjE2OTY2NjU3OTMsImV4cCI6MTY5NjcyNTAxMywibmJmIjoxNjk2NjY1NzkzLCJhdWQiOlsieDowIiwieDoxIiwieDoyIiwiZDoxIiwiZDoyIiwieDoxIiwieDowIl0sInN1YiI6ImFjY2Vzc190b2tlbiIsImF0X2hhc2giOiJnQUFBQUFCbElSREJITkRFaHV0WVNmYnFnaFlHVElzZEpobmlnQlJEaWhZRm9CZ3lkaWhCY0JJWWJmZTBZSFVYejFma1FHb1RfS1kxaTVGempSQkZVMkxVcVdjdEEydDNlRGR2by1ZX3RmZl9aN0J4OVlRU252QT0iLCJkaXNwbGF5X25hbWUiOiJMQUtTSElUIiwib21zIjoiSzEiLCJoc21fa2V5IjoiZWQxNGYwNTE1N2JkOGQ1NTQ1Y2IyNmZiODAxZTI0NDBlZGYyNmZiYjkzZjQ4ZmVmOGFiZmUxYWQiLCJmeV9pZCI6IlhMMDU3MzQiLCJhcHBUeXBlIjoxMDAsInBvYV9mbGFnIjoiTiJ9.9gJ_Vx7TKqDHr-GYFOV-_aUJ_uOaUsj3OgOTTKvZFe8', 'refresh_token': 'eyJ0eXAiOiJKV1QiLCJhbGciOiJIUzI1NiJ9.eyJpc3MiOiJhcGkuZnllcnMuaW4iLCJpYXQiOjE2OTY2NjU3OTMsImV4cCI6MTY5NzkzNDYxMywibmJmIjoxNjk2NjY1NzkzLCJhdWQiOlsieDowIiwieDoxIiwieDoyIiwiZDoxIiwiZDoyIiwieDoxIiwieDowIl0sInN1YiI6InJlZnJlc2hfdG9rZW4iLCJhdF9oYXNoIjoiZ0FBQUFBQmxJUkRCSE5ERWh1dFlTZmJxZ2hZR1RJc2RKaG5pZ0JSRGloWUZvQmd5ZGloQmNCSVliZmUwWUhVWHoxZmtRR29UX0tZMWk1RnpqUkJGVTJMVXFXY3RBMnQzZURkdm8tWV90ZmZfWjdCeDlZUVNudkE9IiwiZGlzcGxheV9uYW1lIjoiTEFLU0hJVCIsIm9tcyI6IksxIiwiaHNtX2tleSI6ImVkMTRmMDUxNTdiZDhkNTU0NWNiMjZmYjgwMWUyNDQwZWRmMjZmYmI5M2Y0OGZlZjhhYmZlMWFkIiwiZnlfaWQiOiJYTDA1NzM0IiwiYXBwVHlwZSI6MTAwLCJwb2FfZmxhZyI6Ik4ifQ.GDr1yBljtv2Ia31hi8qkAJmFZvEO8oCY7j9ankhQYZ0'}\n"
     ]
    }
   ],
   "source": [
    "session.set_token(auth_code)\n",
    "\n",
    "response = session.generate_token()\n",
    "\n",
    "access_token = response['access_token']\n",
    "\n",
    "print(response)"
   ]
  },
  {
   "cell_type": "markdown",
   "id": "f6f2deb3",
   "metadata": {},
   "source": [
    "# Create Fyers Client"
   ]
  },
  {
   "cell_type": "code",
   "execution_count": 123,
   "id": "9c9dc92b",
   "metadata": {},
   "outputs": [],
   "source": [
    "from os import getcwd\n",
    "client = fyersModel.FyersModel(client_id=client_id, is_async=False, token=access_token, log_path=getcwd())"
   ]
  },
  {
   "cell_type": "markdown",
   "id": "57cadd99",
   "metadata": {},
   "source": [
    "# Historical Data"
   ]
  },
  {
   "cell_type": "markdown",
   "id": "04e36a47",
   "metadata": {},
   "source": [
    "## Fyers"
   ]
  },
  {
   "cell_type": "code",
   "execution_count": 124,
   "id": "35af4f87",
   "metadata": {},
   "outputs": [],
   "source": [
    "import pandas as pd\n",
    "import pytz\n",
    "\n",
    "if fetch_data_from == \"fyers\":\n",
    "    data = {\n",
    "        \"symbol\":\"NSE:NIFTYBANK-INDEX\",\n",
    "        \"resolution\":\"15\",\n",
    "        \"date_format\":\"1\",\n",
    "        \"range_from\": start_date,\n",
    "        \"range_to\": end_date,\n",
    "        \"cont_flag\":\"1\"\n",
    "    }\n",
    "\n",
    "    response = client.history(data=data)\n",
    "    # print(response)\n",
    "    df = pd.DataFrame(response['candles'], columns=['Time', \"Open\", \"High\", \"Low\", \"Close\", \"Volume\"])    \n",
    "\n",
    "    # Epoch Time to Human Readable\n",
    "    ist = pytz.timezone('Asia/Kolkata')\n",
    "    df['Time'] = pd.to_datetime(df['Time'], unit='s').dt.tz_localize(pytz.UTC).dt.tz_convert(ist)   \n",
    "\n",
    "    df = df.set_index(\"Time\") "
   ]
  },
  {
   "cell_type": "markdown",
   "id": "869fc417",
   "metadata": {},
   "source": [
    "## Csv Import"
   ]
  },
  {
   "cell_type": "code",
   "execution_count": 153,
   "id": "4ff03826",
   "metadata": {},
   "outputs": [],
   "source": [
    "if fetch_data_from == \"csv\":\n",
    "    df = pd.read_csv('NiftyData.csv')\n",
    "    df = df.drop(columns=[\"Unnamed: 0\", \"INDEX_NAME\", \"Index Name\"])\n",
    "    df.rename(columns={\"HistoricalDate\":\"Time\", \"OPEN\": \"Open\", \"LOW\": \"Low\", \"CLOSE\":\"Close\", \"HIGH\": \"High\" }, inplace=True)\n",
    "    df = df[::-1].reset_index(drop=True)"
   ]
  },
  {
   "cell_type": "code",
   "execution_count": 154,
   "id": "b18681df",
   "metadata": {},
   "outputs": [
    {
     "data": {
      "text/html": [
       "<div>\n",
       "<style scoped>\n",
       "    .dataframe tbody tr th:only-of-type {\n",
       "        vertical-align: middle;\n",
       "    }\n",
       "\n",
       "    .dataframe tbody tr th {\n",
       "        vertical-align: top;\n",
       "    }\n",
       "\n",
       "    .dataframe thead th {\n",
       "        text-align: right;\n",
       "    }\n",
       "</style>\n",
       "<table border=\"1\" class=\"dataframe\">\n",
       "  <thead>\n",
       "    <tr style=\"text-align: right;\">\n",
       "      <th></th>\n",
       "      <th>Time</th>\n",
       "      <th>Open</th>\n",
       "      <th>High</th>\n",
       "      <th>Low</th>\n",
       "      <th>Close</th>\n",
       "    </tr>\n",
       "  </thead>\n",
       "  <tbody>\n",
       "    <tr>\n",
       "      <th>0</th>\n",
       "      <td>03 Jan 2000</td>\n",
       "      <td>1482.15</td>\n",
       "      <td>1592.90</td>\n",
       "      <td>1482.15</td>\n",
       "      <td>1592.2</td>\n",
       "    </tr>\n",
       "    <tr>\n",
       "      <th>1</th>\n",
       "      <td>04 Jan 2000</td>\n",
       "      <td>1594.40</td>\n",
       "      <td>1641.95</td>\n",
       "      <td>1594.40</td>\n",
       "      <td>1638.7</td>\n",
       "    </tr>\n",
       "    <tr>\n",
       "      <th>2</th>\n",
       "      <td>05 Jan 2000</td>\n",
       "      <td>1634.55</td>\n",
       "      <td>1635.50</td>\n",
       "      <td>1555.05</td>\n",
       "      <td>1595.8</td>\n",
       "    </tr>\n",
       "    <tr>\n",
       "      <th>3</th>\n",
       "      <td>06 Jan 2000</td>\n",
       "      <td>1595.80</td>\n",
       "      <td>1639.00</td>\n",
       "      <td>1595.80</td>\n",
       "      <td>1617.6</td>\n",
       "    </tr>\n",
       "    <tr>\n",
       "      <th>4</th>\n",
       "      <td>07 Jan 2000</td>\n",
       "      <td>1616.60</td>\n",
       "      <td>1628.25</td>\n",
       "      <td>1597.20</td>\n",
       "      <td>1613.3</td>\n",
       "    </tr>\n",
       "  </tbody>\n",
       "</table>\n",
       "</div>"
      ],
      "text/plain": [
       "          Time     Open     High      Low   Close\n",
       "0  03 Jan 2000  1482.15  1592.90  1482.15  1592.2\n",
       "1  04 Jan 2000  1594.40  1641.95  1594.40  1638.7\n",
       "2  05 Jan 2000  1634.55  1635.50  1555.05  1595.8\n",
       "3  06 Jan 2000  1595.80  1639.00  1595.80  1617.6\n",
       "4  07 Jan 2000  1616.60  1628.25  1597.20  1613.3"
      ]
     },
     "execution_count": 154,
     "metadata": {},
     "output_type": "execute_result"
    }
   ],
   "source": [
    "df.head()"
   ]
  },
  {
   "cell_type": "markdown",
   "id": "d6e0ed10",
   "metadata": {},
   "source": [
    "# Time Difference in Months"
   ]
  },
  {
   "cell_type": "code",
   "execution_count": 155,
   "id": "1f51962e",
   "metadata": {},
   "outputs": [],
   "source": [
    "from datetime import datetime\n",
    "\n",
    "if fetch_data_from == \"fyers\":\n",
    "    start_date_ = datetime.strptime(start_date, \"%Y-%m-%d\")\n",
    "    end_date_ = datetime.strptime(end_date, \"%Y-%m-%d\")\n",
    "\n",
    "elif fetch_data_from == \"csv\":\n",
    "    start_date_ = pd.to_datetime(df['Time'][0])\n",
    "    end_date_ = pd.to_datetime(df[\"Time\"][-1:].values)\n",
    "    start_date = df['Time'].head(1).values[0]\n",
    "    end_date = df['Time'].tail(1).values[0]\n",
    "months_difference = ((end_date_.year - start_date_.year) * 12 + (end_date_.month - start_date_.month))[0]\n"
   ]
  },
  {
   "cell_type": "code",
   "execution_count": 156,
   "id": "768478aa",
   "metadata": {},
   "outputs": [
    {
     "data": {
      "text/html": [
       "<div>\n",
       "<style scoped>\n",
       "    .dataframe tbody tr th:only-of-type {\n",
       "        vertical-align: middle;\n",
       "    }\n",
       "\n",
       "    .dataframe tbody tr th {\n",
       "        vertical-align: top;\n",
       "    }\n",
       "\n",
       "    .dataframe thead th {\n",
       "        text-align: right;\n",
       "    }\n",
       "</style>\n",
       "<table border=\"1\" class=\"dataframe\">\n",
       "  <thead>\n",
       "    <tr style=\"text-align: right;\">\n",
       "      <th></th>\n",
       "      <th>Time</th>\n",
       "      <th>Open</th>\n",
       "      <th>High</th>\n",
       "      <th>Low</th>\n",
       "      <th>Close</th>\n",
       "    </tr>\n",
       "  </thead>\n",
       "  <tbody>\n",
       "    <tr>\n",
       "      <th>0</th>\n",
       "      <td>03 Jan 2000</td>\n",
       "      <td>1482.15</td>\n",
       "      <td>1592.90</td>\n",
       "      <td>1482.15</td>\n",
       "      <td>1592.2</td>\n",
       "    </tr>\n",
       "    <tr>\n",
       "      <th>1</th>\n",
       "      <td>04 Jan 2000</td>\n",
       "      <td>1594.40</td>\n",
       "      <td>1641.95</td>\n",
       "      <td>1594.40</td>\n",
       "      <td>1638.7</td>\n",
       "    </tr>\n",
       "    <tr>\n",
       "      <th>2</th>\n",
       "      <td>05 Jan 2000</td>\n",
       "      <td>1634.55</td>\n",
       "      <td>1635.50</td>\n",
       "      <td>1555.05</td>\n",
       "      <td>1595.8</td>\n",
       "    </tr>\n",
       "    <tr>\n",
       "      <th>3</th>\n",
       "      <td>06 Jan 2000</td>\n",
       "      <td>1595.80</td>\n",
       "      <td>1639.00</td>\n",
       "      <td>1595.80</td>\n",
       "      <td>1617.6</td>\n",
       "    </tr>\n",
       "    <tr>\n",
       "      <th>4</th>\n",
       "      <td>07 Jan 2000</td>\n",
       "      <td>1616.60</td>\n",
       "      <td>1628.25</td>\n",
       "      <td>1597.20</td>\n",
       "      <td>1613.3</td>\n",
       "    </tr>\n",
       "  </tbody>\n",
       "</table>\n",
       "</div>"
      ],
      "text/plain": [
       "          Time     Open     High      Low   Close\n",
       "0  03 Jan 2000  1482.15  1592.90  1482.15  1592.2\n",
       "1  04 Jan 2000  1594.40  1641.95  1594.40  1638.7\n",
       "2  05 Jan 2000  1634.55  1635.50  1555.05  1595.8\n",
       "3  06 Jan 2000  1595.80  1639.00  1595.80  1617.6\n",
       "4  07 Jan 2000  1616.60  1628.25  1597.20  1613.3"
      ]
     },
     "execution_count": 156,
     "metadata": {},
     "output_type": "execute_result"
    }
   ],
   "source": [
    "df.head()"
   ]
  },
  {
   "cell_type": "markdown",
   "id": "92a1a754",
   "metadata": {},
   "source": [
    "# Day Opening and Closing Data Collection"
   ]
  },
  {
   "cell_type": "code",
   "execution_count": 157,
   "id": "f0ab112e",
   "metadata": {},
   "outputs": [],
   "source": [
    "if fetch_data_from == \"fyers\":\n",
    "    trade_info = {\n",
    "        'day_closing': [],\n",
    "        'day_opening': []\n",
    "    }\n",
    "    for i in range(0,len(df)):\n",
    "        if df.index[i].hour == market_opening_hour and df.index[i].minute == market_opening_minute:\n",
    "                trade_info['day_opening'].append(df.index[i])\n",
    "        elif df.index[i].hour == market_closing_hour and df.index[i].minute == market_closing_minute:\n",
    "                trade_info['day_closing'].append(df.index[i])"
   ]
  },
  {
   "cell_type": "markdown",
   "id": "fb655bfc",
   "metadata": {},
   "source": [
    "# BTST Logic"
   ]
  },
  {
   "cell_type": "code",
   "execution_count": 158,
   "id": "f79ee3ae",
   "metadata": {},
   "outputs": [],
   "source": [
    "pnl_list = []\n",
    "if fetch_data_from == \"fyers\":\n",
    "    for i in range(0, len(trade_info['day_closing']) - 1):\n",
    "        pnl = df.loc[trade_info['day_opening'][i+1]].Open - df.loc[trade_info['day_closing'][i]].Open\n",
    "        pnl_list.append(round(pnl,2))\n",
    "if fetch_data_from == \"csv\":\n",
    "    for i in range(0, len(df) - 1):\n",
    "        pnl = df.iloc[i+1].Open - df.iloc[i].Close\n",
    "        pnl_list.append(round(pnl,2))    "
   ]
  },
  {
   "cell_type": "markdown",
   "id": "9cf04de0",
   "metadata": {},
   "source": [
    "# BTST Results"
   ]
  },
  {
   "cell_type": "code",
   "execution_count": 159,
   "id": "ac303003",
   "metadata": {},
   "outputs": [],
   "source": [
    "total_profits = sum(1 for profit in pnl_list if profit > 0)\n",
    "total_losses = sum(1 for loss in pnl_list if loss < 0)"
   ]
  },
  {
   "cell_type": "code",
   "execution_count": 160,
   "id": "c485dead",
   "metadata": {},
   "outputs": [
    {
     "name": "stdout",
     "output_type": "stream",
     "text": [
      "3726\n",
      "1947\n"
     ]
    }
   ],
   "source": [
    "print(total_profits)\n",
    "print(total_losses)"
   ]
  },
  {
   "cell_type": "markdown",
   "id": "fa1387ea",
   "metadata": {},
   "source": [
    "## Paper Trading Results"
   ]
  },
  {
   "cell_type": "code",
   "execution_count": 161,
   "id": "6715ced8",
   "metadata": {},
   "outputs": [],
   "source": [
    "def ConsecutivePL(pnl_data):\n",
    "    l_streak, w_streak = 0, 0\n",
    "    max_loosing_streak, max_winning_streak = 0,0\n",
    "    for i in pnl_data:\n",
    "        if i < 0:\n",
    "            l_streak+=1\n",
    "            if l_streak > max_loosing_streak:\n",
    "                max_loosing_streak = l_streak        \n",
    "        elif i > 0:\n",
    "            l_streak = 0\n",
    "        if i > 0:\n",
    "            w_streak+=1\n",
    "            if w_streak > max_winning_streak:\n",
    "                max_winning_streak = w_streak        \n",
    "        elif i < 0:\n",
    "            w_streak = 0\n",
    "    return {\"Winning_Streak\": max_winning_streak, \"Loosing_Streak\": max_loosing_streak }\n",
    "\n",
    "def MaxConsecutivePL(pnl_data, lot_size, no_of_lots):\n",
    "    l_streak, p_streak = 0, 0\n",
    "    max_loss_streak, max_profit_streak = 0,0\n",
    "    for i in pnl_data:\n",
    "        if i < 0:\n",
    "            l_streak+=i\n",
    "            if l_streak < max_loss_streak:\n",
    "                max_loss_streak = l_streak        \n",
    "        elif i > 0:\n",
    "            l_streak = 0\n",
    "        if i > 0:\n",
    "            p_streak+=i\n",
    "            if p_streak > max_profit_streak:\n",
    "                max_profit_streak = p_streak        \n",
    "        elif i < 0:\n",
    "            p_streak = 0\n",
    "    return {\"Max_Profit_Streak\": round(max_profit_streak*lot_size*no_of_lots,2), \n",
    "            \"Max_Loss_Streak\": round(max_loss_streak*lot_size*no_of_lots,2) }\n",
    "\n",
    "def WLRate(pnl_data):\n",
    "    win_rate = 0\n",
    "    loss_rate = 0\n",
    "    for pnl in pnl_data:\n",
    "        if pnl > 0:\n",
    "            win_rate+=1\n",
    "        else:\n",
    "            loss_rate+=1\n",
    "    total = total_profits + total_losses\n",
    "    win_rate = round(total_profits*100/total,2)\n",
    "    loss_rate = round(total_losses*100/total,2)\n",
    "    return {\"Win_Rate\": win_rate, \"Loss_Rate\": loss_rate}\n",
    "\n",
    "\n",
    "# Max DrawDown\n",
    "def MaxDD(capital_movement):\n",
    "    max_drawdown = 0\n",
    "    current_drawdown = 0\n",
    "    peak_value = capital_movement[0]\n",
    "    for capital in capital_movement:\n",
    "        if capital > peak_value:\n",
    "            peak_value = capital\n",
    "\n",
    "        current_drawdown = peak_value - capital\n",
    "        if current_drawdown > max_drawdown:\n",
    "            max_drawdown = current_drawdown\n",
    "    return max_drawdown\n",
    "\n",
    "def FinalCapital(inital_capital, no_of_lots, lot_size):\n",
    "    final_capital = inital_capital\n",
    "    capital_movement = [final_capital]\n",
    "    for pnl in pnl_list:\n",
    "        final_capital += (pnl*no_of_lots*lot_size)\n",
    "        capital_movement.append(final_capital) \n",
    "    return final_capital, capital_movement\n",
    "\n",
    "def PNLs(no_of_lots, lot_size):\n",
    "    pnls = []\n",
    "    for pnl in pnl_list:\n",
    "        pnls.append(pnl*no_of_lots*lot_size)\n",
    "    return pnls\n",
    "\n",
    "def AveragePNL(pnl_data,no_of_lots,lot_size):\n",
    "    total_sum = 0\n",
    "    for pnl in pnl_data:\n",
    "        total_sum+=(pnl*no_of_lots*lot_size)\n",
    "    average = total_sum/len(pnl_data)\n",
    "    return round(average,2)\n",
    "\n",
    "def AveragePNLPerTrade(pnl_data, no_of_lots,lot_size):\n",
    "    total_sum_l,total_sum_p = 0,0\n",
    "    no_of_losses, no_of_profits = 0,0\n",
    "    for pnl in pnl_data:\n",
    "        if pnl < 0:\n",
    "            total_sum_l+=(pnl*no_of_lots*lot_size)\n",
    "            no_of_losses+=1\n",
    "        elif pnl > 0:\n",
    "            total_sum_p+=(pnl*no_of_lots*lot_size)\n",
    "            no_of_profits+=1\n",
    "    average_loss = round(total_sum_l/no_of_losses,2)\n",
    "    average_profit = round(total_sum_p/no_of_profits,2)\n",
    "    return {\"Average_Profits_Per_Trade\": average_profit, \"Average_Loss_Per_Trade\": average_loss}"
   ]
  },
  {
   "cell_type": "code",
   "execution_count": 162,
   "id": "471f6b8d",
   "metadata": {},
   "outputs": [],
   "source": [
    "inital_capital = 200000\n",
    "no_of_lots = 2\n",
    "lot_size = 50\n",
    "capital_movement = FinalCapital(inital_capital, no_of_lots, lot_size)[1]\n",
    "\n",
    "final_capital = FinalCapital(inital_capital, no_of_lots, lot_size)[0]\n",
    "roi = final_capital - inital_capital\n",
    "roi_per = roi*100/inital_capital\n",
    "max_profit = round(max(PNLs(no_of_lots, lot_size)),2)\n",
    "max_loss = min(PNLs(no_of_lots, lot_size))\n",
    "max_drawdown = MaxDD(capital_movement)\n",
    "mdd_per = round(max_drawdown*100/inital_capital,2)\n",
    "max_winning_streak = ConsecutivePL(pnl_list)['Winning_Streak']\n",
    "max_loosing_streak = ConsecutivePL(pnl_list)['Loosing_Streak']\n",
    "pnl_per_trade = AveragePNL(pnl_list,no_of_lots,lot_size)\n",
    "max_profit_steak = MaxConsecutivePL(pnl_list, lot_size, no_of_lots)['Max_Profit_Streak']\n",
    "max_loss_steak = MaxConsecutivePL(pnl_list,lot_size, no_of_lots)['Max_Loss_Streak']\n",
    "win_rate = WLRate(pnl_list)['Win_Rate']\n",
    "loss_rate = WLRate(pnl_list)['Loss_Rate']\n",
    "average_profit_on_win_trade = AveragePNLPerTrade(pnl_list, no_of_lots,lot_size)[\"Average_Profits_Per_Trade\"]\n",
    "average_loss_on_loss_trade = AveragePNLPerTrade(pnl_list, no_of_lots,lot_size)[\"Average_Loss_Per_Trade\"]\n",
    "return_over_mdd = round(roi_per/mdd_per,2)\n",
    "risk_to_reward = round(abs(average_profit_on_win_trade/average_loss_on_loss_trade),2)\n",
    "expectancy_ratio = round((risk_to_reward*(win_rate/100))-(loss_rate/100),2)"
   ]
  },
  {
   "cell_type": "code",
   "execution_count": 163,
   "id": "ed7960d5",
   "metadata": {},
   "outputs": [
    {
     "data": {
      "text/markdown": [
       "# Performance Summary\n",
       " Start Date: 03 Jan 2000</br> End Date: 19 May 2023</br>Time Period: 280 Months</br> Initial Capital: 200000</br>Final Capital: 4053330.0</br>    Return on Investment: 3853330.0</br>    ROI Percentage: 1926.665%</br> Max Profit: 41175.0</br> Max Loss: -79975.0</br>   Max Draw Down: 293415.0</br> Max Draw Down Percentage: 146.71 </br> Max Winning Streak: 23   </br> Max Loosing Streak: 7</br> Average PNL Per Trade: 662.77</br>  Max Profit Streak: 86485.0 </br> Max Loss Streak: -195930.0</br> Win Rate: 65.68% </br> Loss Rate: 34.32%</br>  Average Profit on Win Trade: 2302.36</br> Average Loss on Loss Trade: -2426.95</br>  Return Over Max Draw Down: 13.13</br> Risk to Reward Ratio: 0.95</br> Expectancy Ratio: 0.28"
      ],
      "text/plain": [
       "<IPython.core.display.Markdown object>"
      ]
     },
     "execution_count": 163,
     "metadata": {},
     "output_type": "execute_result"
    }
   ],
   "source": [
    "from IPython.display import Markdown as md\n",
    "\n",
    "md(\"# Performance Summary\\n Start Date: {}</br> End Date: {}</br>Time Period: {} Months</br> Initial Capital: {}</br>\\\n",
    "Final Capital: {}</br> \\\n",
    "   Return on Investment: {}</br> \\\n",
    "   ROI Percentage: {}%</br> Max Profit: {}</br> Max Loss: {}</br> \\\n",
    "  Max Draw Down: {}</br> Max Draw Down Percentage: {} </br> Max Winning Streak: {} \\\n",
    "  </br> Max Loosing Streak: {}</br> Average PNL Per Trade: {}</br>\\\n",
    "  Max Profit Streak: {} </br> Max Loss Streak: {}</br> Win Rate: {}% </br> Loss Rate: {}%</br>\\\n",
    "  Average Profit on Win Trade: {}</br> Average Loss on Loss Trade: {}</br>\\\n",
    "  Return Over Max Draw Down: {}</br> Risk to Reward Ratio: {}</br> Expectancy Ratio: {}\".format(\n",
    "                                    start_date, end_date, months_difference, inital_capital,\n",
    "                                    final_capital, roi, roi_per,\n",
    "                                    max_profit,max_loss, max_drawdown,\n",
    "                                    mdd_per,max_winning_streak, max_loosing_streak, pnl_per_trade,\n",
    "                                    max_profit_steak, max_loss_steak, win_rate, loss_rate,\n",
    "                                    average_profit_on_win_trade, average_loss_on_loss_trade,\n",
    "                                    return_over_mdd, risk_to_reward, expectancy_ratio))"
   ]
  },
  {
   "cell_type": "markdown",
   "id": "73d366b4",
   "metadata": {},
   "source": [
    "# Historical Trend "
   ]
  },
  {
   "cell_type": "markdown",
   "id": "feb39293",
   "metadata": {},
   "source": [
    "## Predicting Gaps"
   ]
  },
  {
   "cell_type": "markdown",
   "id": "0e63ff2d",
   "metadata": {},
   "source": [
    "### Change in Price"
   ]
  },
  {
   "cell_type": "code",
   "execution_count": 228,
   "id": "57998ef5",
   "metadata": {},
   "outputs": [],
   "source": [
    "period = 2\n",
    "from numpy import nan\n",
    "df[f'{period}_day_price_change'] = df['Close'].diff(periods=period)\n",
    "prediction = []\n",
    "for i in range(0, len(df)):\n",
    "    is_positive_trend = df[f'{period}_day_price_change'].iloc[i] > 0\n",
    "    if is_positive_trend:\n",
    "       prediction.append(\"Gap Up\")\n",
    "    elif not is_positive_trend:\n",
    "        prediction.append('Gap Down')\n",
    "df['Prediction'] = prediction"
   ]
  },
  {
   "cell_type": "markdown",
   "id": "3b1ab804",
   "metadata": {},
   "source": [
    "#### Actual Gap"
   ]
  },
  {
   "cell_type": "code",
   "execution_count": 268,
   "id": "68543fdf",
   "metadata": {},
   "outputs": [
    {
     "name": "stderr",
     "output_type": "stream",
     "text": [
      "/var/folders/7k/mwk0ry_90p1gvfnc7vymq21w0000gn/T/ipykernel_1741/3094274696.py:2: SettingWithCopyWarning: \n",
      "A value is trying to be set on a copy of a slice from a DataFrame\n",
      "\n",
      "See the caveats in the documentation: https://pandas.pydata.org/pandas-docs/stable/user_guide/indexing.html#returning-a-view-versus-a-copy\n",
      "  df['Actual_Gap'].iloc[period-1:] =  pnl_list\n"
     ]
    }
   ],
   "source": [
    "df.loc[0, 'Actual_Gap'] = nan\n",
    "df['Actual_Gap'].iloc[period-1:] =  pnl_list"
   ]
  },
  {
   "cell_type": "markdown",
   "id": "51df7961",
   "metadata": {},
   "source": [
    "### SMA Logic"
   ]
  },
  {
   "cell_type": "code",
   "execution_count": 270,
   "id": "cdbcad1c",
   "metadata": {},
   "outputs": [
    {
     "name": "stderr",
     "output_type": "stream",
     "text": [
      "/var/folders/7k/mwk0ry_90p1gvfnc7vymq21w0000gn/T/ipykernel_1741/3569904789.py:14: SettingWithCopyWarning: \n",
      "A value is trying to be set on a copy of a slice from a DataFrame\n",
      "\n",
      "See the caveats in the documentation: https://pandas.pydata.org/pandas-docs/stable/user_guide/indexing.html#returning-a-view-versus-a-copy\n",
      "  df['Historical_Trend'].iloc[long_window:] = sma_prediction\n"
     ]
    }
   ],
   "source": [
    "short_window = 5\n",
    "long_window = 20\n",
    "\n",
    "df['SMA_Short'] = df['Close'].rolling(window=short_window).mean()\n",
    "df['SMA_Long'] = df['Close'].rolling(window=long_window).mean()\n",
    "sma_prediction = []\n",
    "for i in range(0, len(df)):\n",
    "    if df['SMA_Short'].iloc[i] > df['SMA_Long'].iloc[i]:\n",
    "        sma_prediction.append(\"Up Trend\")\n",
    "    elif df['SMA_Short'].iloc[i] < df['SMA_Long'].iloc[i]:\n",
    "        sma_prediction.append(\"Down Trend\")    \n",
    "\n",
    "df['Historical_Trend'] = nan\n",
    "df['Historical_Trend'].iloc[long_window:] = sma_prediction"
   ]
  },
  {
   "cell_type": "markdown",
   "id": "7ad46634",
   "metadata": {},
   "source": [
    "### Evluation"
   ]
  },
  {
   "cell_type": "code",
   "execution_count": 286,
   "id": "13f0937b",
   "metadata": {},
   "outputs": [],
   "source": [
    "wins = 0\n",
    "losses = 0\n",
    "for i in range(0, len(df)):\n",
    "    if (df['Actual_Gap'].iloc[i] > 0 and df[\"Prediction\"].iloc[i] == \"Gap Up\" and df['Historical_Trend'].iloc[i] == \"Up Trend\") or (df['Actual_Gap'].iloc[i] < 0 and df[\"Prediction\"].iloc[i] == \"Gap Down\" and df['Historical_Trend'].iloc[i] == \"Down Trend\"):\n",
    "        wins+=1\n",
    "    elif (df['Actual_Gap'].iloc[i] < 0 and df[\"Prediction\"].iloc[i] == \"Gap Up\" and df['Historical_Trend'].iloc[i] == \"Up Trend\") or (df['Actual_Gap'].iloc[i] > 0 and df[\"Prediction\"].iloc[i] == \"Gap Down\" and df['Historical_Trend'].iloc[i] == \"Down Trend\"):\n",
    "        losses+=1    \n",
    "    \n"
   ]
  },
  {
   "cell_type": "code",
   "execution_count": 287,
   "id": "dd9d4925",
   "metadata": {},
   "outputs": [],
   "source": [
    "win_rate__ = round(wins*100/(wins+losses),2)"
   ]
  },
  {
   "cell_type": "code",
   "execution_count": 288,
   "id": "558fb752",
   "metadata": {},
   "outputs": [
    {
     "name": "stdout",
     "output_type": "stream",
     "text": [
      "66.44 %\n"
     ]
    }
   ],
   "source": [
    "print(win_rate__,\"%\")"
   ]
  },
  {
   "cell_type": "code",
   "execution_count": null,
   "id": "f44e761b",
   "metadata": {},
   "outputs": [],
   "source": []
  }
 ],
 "metadata": {
  "kernelspec": {
   "display_name": "Python 3 (ipykernel)",
   "language": "python",
   "name": "python3"
  },
  "language_info": {
   "codemirror_mode": {
    "name": "ipython",
    "version": 3
   },
   "file_extension": ".py",
   "mimetype": "text/x-python",
   "name": "python",
   "nbconvert_exporter": "python",
   "pygments_lexer": "ipython3",
   "version": "3.9.6"
  }
 },
 "nbformat": 4,
 "nbformat_minor": 5
}
